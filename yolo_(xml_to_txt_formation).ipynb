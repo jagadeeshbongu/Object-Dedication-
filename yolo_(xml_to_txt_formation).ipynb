{
  "nbformat": 4,
  "nbformat_minor": 0,
  "metadata": {
    "colab": {
      "provenance": []
    },
    "kernelspec": {
      "name": "python3",
      "display_name": "Python 3"
    },
    "language_info": {
      "name": "python"
    }
  },
  "cells": [
    {
      "cell_type": "code",
      "source": [
        "from google.colab import drive\n",
        "deive.mount('/content/drive/')"
      ],
      "metadata": {
        "id": "MDSLDOYmsZSx"
      },
      "execution_count": null,
      "outputs": []
    },
    {
      "cell_type": "code",
      "execution_count": null,
      "metadata": {
        "colab": {
          "base_uri": "https://localhost:8080/"
        },
        "id": "YIvOS0hLqP8c",
        "outputId": "b988d61a-ce55-45a4-e89a-8172c8302d9d"
      },
      "outputs": [
        {
          "output_type": "stream",
          "name": "stdout",
          "text": [
            "Annots: 11666\n",
            "Images: 11674\n"
          ]
        }
      ],
      "source": [
        "import os\n",
        "print(\"Annots:\",len(os.listdir(\"/content/drive/MyDrive/debris_VOCdevkit/VOCdevkit/VOC2007/Annotations\")))\n",
        "print(\"Images:\",len(os.listdir(\"/content/drive/MyDrive/debris_VOCdevkit/VOCdevkit/VOC2007/JPEGImages\")))"
      ]
    },
    {
      "cell_type": "code",
      "source": [
        "%cd '/content/drive/MyDrive/debris_VOCdevkit/VOCdevkit/VOC2007'"
      ],
      "metadata": {
        "colab": {
          "base_uri": "https://localhost:8080/"
        },
        "id": "L5N7kntPxxeE",
        "outputId": "439244b2-182a-4a6f-ad7a-e8366ae82abe"
      },
      "execution_count": null,
      "outputs": [
        {
          "output_type": "stream",
          "name": "stdout",
          "text": [
            "/content/drive/MyDrive/debris_VOCdevkit/VOCdevkit/VOC2007\n"
          ]
        }
      ]
    },
    {
      "cell_type": "code",
      "source": [
        "ls"
      ],
      "metadata": {
        "colab": {
          "base_uri": "https://localhost:8080/"
        },
        "id": "JvAqvKWSx7gt",
        "outputId": "b5320b07-19dd-4534-9834-5db1351e7571"
      },
      "execution_count": null,
      "outputs": [
        {
          "output_type": "stream",
          "name": "stdout",
          "text": [
            "\u001b[0m\u001b[01;34mAnnotations\u001b[0m/  \u001b[01;34mImageSets\u001b[0m/  \u001b[01;34mJPEGImages\u001b[0m/\n"
          ]
        }
      ]
    },
    {
      "cell_type": "code",
      "source": [
        "classes = []\n",
        "input_dir = \"Annotations/\"\n",
        "output_dir = \"labels/\"\n",
        "image_dir = \"JPEGImages/\"\n",
        "#os.mkdir(output_dir)"
      ],
      "metadata": {
        "id": "es7msMSmx_ns"
      },
      "execution_count": null,
      "outputs": []
    },
    {
      "cell_type": "code",
      "source": [],
      "metadata": {
        "id": "7gEmuP9MyI8l"
      },
      "execution_count": null,
      "outputs": []
    },
    {
      "cell_type": "markdown",
      "source": [
        "## xml to yolo labels "
      ],
      "metadata": {
        "id": "0q0NvQPsyOj1"
      }
    },
    {
      "cell_type": "code",
      "source": [
        "import xml.etree.ElementTree as ET\n",
        "import glob\n",
        "import os\n",
        "import json"
      ],
      "metadata": {
        "id": "llxc7PzZyaOz"
      },
      "execution_count": null,
      "outputs": []
    },
    {
      "cell_type": "code",
      "source": [
        "def xml_to_yolo_bbox(bbox, w, h):\n",
        "    # xmin, ymin, xmax, ymax\n",
        "    x_center = ((bbox[2] + bbox[0]) / 2) / w\n",
        "    y_center = ((bbox[3] + bbox[1]) / 2) / h\n",
        "    width = (bbox[2] - bbox[0]) / w\n",
        "    height = (bbox[3] - bbox[1]) / h\n",
        "    return [x_center, y_center, width, height]"
      ],
      "metadata": {
        "id": "WdweFNEEyiSJ"
      },
      "execution_count": null,
      "outputs": []
    },
    {
      "cell_type": "code",
      "source": [
        "# identify all the xml files in the annotations folder (input directory)\n",
        "files = glob.glob(os.path.join(input_dir, '*.xml'))\n",
        "# loop through each \n",
        "for i in range(len(files)):\n",
        "    basename = os.path.basename(files[i])\n",
        "    filename = os.path.splitext(basename)[0]\n",
        "    # check if the label contains the corresponding image file\n",
        "    #if not os.path.exists(os.path.join(image_dir, f\"{filename}.jpg\")):\n",
        "        #print(f\"{filename} image does not exist!\")\n",
        "        #continue\n",
        "\n",
        "    result = []\n",
        "\n",
        "    # parse the content of the xml file\n",
        "    tree = ET.parse(files[i])\n",
        "    root = tree.getroot()\n",
        "    width = int(root.find(\"size\").find(\"width\").text)\n",
        "    height = int(root.find(\"size\").find(\"height\").text)\n",
        "\n",
        "    for obj in root.findall('object'):\n",
        "        label = obj.find(\"name\").text\n",
        "        # check for new classes and append to list\n",
        "        if label not in classes:\n",
        "            classes.append(label)\n",
        "        index = classes.index(label)\n",
        "        pil_bbox = [int(x.text) for x in obj.find(\"bndbox\")]\n",
        "        yolo_bbox = xml_to_yolo_bbox(pil_bbox, width, height)\n",
        "        # convert data to string\n",
        "        bbox_string = \" \".join([str(x) for x in yolo_bbox])\n",
        "        result.append(f\"{index} {bbox_string}\")\n",
        "\n",
        "    if result:\n",
        "        # generate a YOLO format text file for each xml file\n",
        "        with open(os.path.join(output_dir, f\"{filename}.txt\"), \"w\", encoding=\"utf-8\") as f:\n",
        "            f.write(\"\\n\".join(result))\n",
        "\n",
        "# generate the classes file as reference\n",
        "with open('classes.txt', 'w', encoding='utf8') as f:\n",
        "    f.write(json.dumps(classes))"
      ],
      "metadata": {
        "id": "gzVn43qjymZr"
      },
      "execution_count": null,
      "outputs": []
    },
    {
      "cell_type": "code",
      "source": [
        "len(os.listdir(\"labels\"))"
      ],
      "metadata": {
        "colab": {
          "base_uri": "https://localhost:8080/"
        },
        "id": "Q8rgo2Wjy1L-",
        "outputId": "167f8c27-a721-4d95-9a17-ac19faa95902"
      },
      "execution_count": null,
      "outputs": [
        {
          "output_type": "execute_result",
          "data": {
            "text/plain": [
              "11666"
            ]
          },
          "metadata": {},
          "execution_count": 20
        }
      ]
    },
    {
      "cell_type": "code",
      "source": [],
      "metadata": {
        "id": "s3WUb4Xd4Trr"
      },
      "execution_count": null,
      "outputs": []
    },
    {
      "cell_type": "markdown",
      "source": [
        "## Train & Test"
      ],
      "metadata": {
        "id": "efUxePhG4Umt"
      }
    },
    {
      "cell_type": "code",
      "source": [
        "import random\n",
        "import shutil"
      ],
      "metadata": {
        "id": "GUGYyhfD48iI"
      },
      "execution_count": null,
      "outputs": []
    },
    {
      "cell_type": "code",
      "source": [
        "ls"
      ],
      "metadata": {
        "colab": {
          "base_uri": "https://localhost:8080/"
        },
        "id": "pmyan4Go4_7n",
        "outputId": "81e5fe68-7b14-4e03-844f-85fbcbe6cde4"
      },
      "execution_count": null,
      "outputs": [
        {
          "output_type": "stream",
          "name": "stdout",
          "text": [
            "\u001b[0m\u001b[01;34mAnnotations\u001b[0m/  classes.txt  \u001b[01;34mImageSets\u001b[0m/  \u001b[01;34mJPEGImages\u001b[0m/  \u001b[01;34mlabels\u001b[0m/\n"
          ]
        }
      ]
    },
    {
      "cell_type": "code",
      "source": [
        "def copyfiles(fil, root_dir):\n",
        "    basename = os.path.basename(fil)\n",
        "    filename = os.path.splitext(basename)[0]\n",
        "\n",
        "    # copy image\n",
        "    src_img = os.path.join(image_dir,fil)\n",
        "    dest_img = os.path.join(root_dir, image_dir, fil)\n",
        "    \n",
        "    # copy annotations\n",
        "    src = os.path.join(label_dir, f\"{filename}.txt\")\n",
        "    dest = os.path.join(root_dir, label_dir, f\"{filename}.txt\")\n",
        "    \n",
        "    if os.path.exists(src):\n",
        "        shutil.copyfile(src_img, dest_img)\n",
        "        shutil.copyfile(src, dest)\n",
        "\n",
        "\n",
        "label_dir = \"labels/\"\n",
        "image_dir = \"JPEGImages/\"\n",
        "lower_limit = 0\n",
        "files = os.listdir(image_dir)\n",
        "\n",
        "random.shuffle(files)\n",
        "\n",
        "folders = {\"train\": 0.8, \"val\": 0.1, \"test\": 0.1}\n",
        "check_sum = sum([folders[x] for x in folders])\n",
        "\n",
        "assert check_sum == 1.0, \"Split proportion is not equal to 1.0\"\n",
        "\n",
        "for folder in folders:\n",
        "    os.mkdir(folder)\n",
        "    temp_label_dir = os.path.join(folder, label_dir)\n",
        "    os.mkdir(temp_label_dir)\n",
        "    temp_image_dir = os.path.join(folder, image_dir)\n",
        "    os.mkdir(temp_image_dir)\n",
        "\n",
        "    limit = round(len(files) * folders[folder])\n",
        "    for fil in files[lower_limit:lower_limit + limit]:\n",
        "        copyfiles(fil, folder)\n",
        "    lower_limit = lower_limit + limit"
      ],
      "metadata": {
        "id": "xyu1cvTs5GW8"
      },
      "execution_count": null,
      "outputs": []
    },
    {
      "cell_type": "code",
      "source": [
        "len(os.listdir('train/JPEGImages')),len(os.listdir('train/labels'))"
      ],
      "metadata": {
        "colab": {
          "base_uri": "https://localhost:8080/"
        },
        "id": "z4xEXAev5ijw",
        "outputId": "e9ca9aba-b0f4-4c94-d99c-d4b042e226d4"
      },
      "execution_count": null,
      "outputs": [
        {
          "output_type": "execute_result",
          "data": {
            "text/plain": [
              "(9310, 9310)"
            ]
          },
          "metadata": {},
          "execution_count": 24
        }
      ]
    },
    {
      "cell_type": "code",
      "source": [
        "len(os.listdir('test/JPEGImages')),len(os.listdir('test/labels'))"
      ],
      "metadata": {
        "colab": {
          "base_uri": "https://localhost:8080/"
        },
        "id": "xaQVrCRm9tbc",
        "outputId": "3a6ea167-5d72-492c-a94e-a8f499b513f7"
      },
      "execution_count": null,
      "outputs": [
        {
          "output_type": "execute_result",
          "data": {
            "text/plain": [
              "(1162, 1162)"
            ]
          },
          "metadata": {},
          "execution_count": 25
        }
      ]
    },
    {
      "cell_type": "code",
      "source": [
        "len(os.listdir('val/JPEGImages')),len(os.listdir('val/labels'))"
      ],
      "metadata": {
        "colab": {
          "base_uri": "https://localhost:8080/"
        },
        "id": "t3sKcpEX9tXd",
        "outputId": "562e88b5-5d00-4a7e-8046-380fb0ce060c"
      },
      "execution_count": null,
      "outputs": [
        {
          "output_type": "execute_result",
          "data": {
            "text/plain": [
              "(1163, 1163)"
            ]
          },
          "metadata": {},
          "execution_count": 26
        }
      ]
    },
    {
      "cell_type": "code",
      "source": [
        "L=[\"Natural_debris\", \"Metal\", \"Plastic\", \"Fishing_net_Rope\", \"Cloth\", \"Rubber\", \"Glass\"]"
      ],
      "metadata": {
        "id": "imjcWxkP9tTr"
      },
      "execution_count": null,
      "outputs": []
    },
    {
      "cell_type": "code",
      "source": [
        "len(L)"
      ],
      "metadata": {
        "colab": {
          "base_uri": "https://localhost:8080/"
        },
        "id": "PRKT4JiM-vcq",
        "outputId": "eb57e798-7721-4855-ed38-36e815eaed98"
      },
      "execution_count": null,
      "outputs": [
        {
          "output_type": "execute_result",
          "data": {
            "text/plain": [
              "7"
            ]
          },
          "metadata": {},
          "execution_count": 28
        }
      ]
    },
    {
      "cell_type": "code",
      "source": [],
      "metadata": {
        "id": "_URLG9Py-yub"
      },
      "execution_count": null,
      "outputs": []
    },
    {
      "cell_type": "code",
      "source": [],
      "metadata": {
        "id": "Xh4_d-yMDaE8"
      },
      "execution_count": null,
      "outputs": []
    }
  ]
}